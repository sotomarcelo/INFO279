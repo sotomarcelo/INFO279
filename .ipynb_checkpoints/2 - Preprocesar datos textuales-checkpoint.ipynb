{
 "cells": [
  {
   "cell_type": "markdown",
   "id": "76fc153f",
   "metadata": {},
   "source": [
    "# Preprocesar datos textuales"
   ]
  },
  {
   "cell_type": "markdown",
   "id": "106117bd",
   "metadata": {},
   "source": [
    "Este notebook muestra métodos estándares de preprocesamiento de datos textuales a través de la librería spacy."
   ]
  },
  {
   "cell_type": "markdown",
   "id": "ee66c815",
   "metadata": {},
   "source": [
    "## 1. Cargar nuestro dataset en dataframe Pandas"
   ]
  },
  {
   "cell_type": "code",
   "execution_count": 1,
   "id": "20981c4a",
   "metadata": {},
   "outputs": [
    {
     "data": {
      "text/html": [
       "<div>\n",
       "<style scoped>\n",
       "    .dataframe tbody tr th:only-of-type {\n",
       "        vertical-align: middle;\n",
       "    }\n",
       "\n",
       "    .dataframe tbody tr th {\n",
       "        vertical-align: top;\n",
       "    }\n",
       "\n",
       "    .dataframe thead th {\n",
       "        text-align: right;\n",
       "    }\n",
       "</style>\n",
       "<table border=\"1\" class=\"dataframe\">\n",
       "  <thead>\n",
       "    <tr style=\"text-align: right;\">\n",
       "      <th></th>\n",
       "      <th>id_news</th>\n",
       "      <th>country</th>\n",
       "      <th>media_outlet</th>\n",
       "      <th>url</th>\n",
       "      <th>title</th>\n",
       "      <th>text</th>\n",
       "      <th>date</th>\n",
       "      <th>search</th>\n",
       "    </tr>\n",
       "  </thead>\n",
       "  <tbody>\n",
       "    <tr>\n",
       "      <th>0</th>\n",
       "      <td>22000913.0</td>\n",
       "      <td>chile</td>\n",
       "      <td>elciudadano</td>\n",
       "      <td>https://www.elciudadano.com/actualidad/disponi...</td>\n",
       "      <td>Disponible online importante catálogo con semi...</td>\n",
       "      <td>La Fundación BIODIVERSIDAD ALIMENTARIA, señala...</td>\n",
       "      <td>2021-09-16</td>\n",
       "      <td>biodiversidad</td>\n",
       "    </tr>\n",
       "    <tr>\n",
       "      <th>1</th>\n",
       "      <td>6414845.0</td>\n",
       "      <td>chile</td>\n",
       "      <td>latercera</td>\n",
       "      <td>https://www.latercera.com/que-pasa/noticia/no-...</td>\n",
       "      <td>\"No es suficiente\": Informe reconoce que Chile...</td>\n",
       "      <td>\"Si el 2019 fue el año del cambio climático, s...</td>\n",
       "      <td>2020-01-20</td>\n",
       "      <td>biodiversidad</td>\n",
       "    </tr>\n",
       "    <tr>\n",
       "      <th>2</th>\n",
       "      <td>15637554.0</td>\n",
       "      <td>chile</td>\n",
       "      <td>emol</td>\n",
       "      <td>https://www.emol.com/noticias/Tecnologia/2016/...</td>\n",
       "      <td>Caída de la biodiversidad en el planeta supera...</td>\n",
       "      <td>MADRID.- La biodiversidad del planeta ha caído...</td>\n",
       "      <td>2016-07-14</td>\n",
       "      <td>biodiversidad</td>\n",
       "    </tr>\n",
       "    <tr>\n",
       "      <th>3</th>\n",
       "      <td>5157141.0</td>\n",
       "      <td>chile</td>\n",
       "      <td>elciudadano</td>\n",
       "      <td>https://www.elciudadano.com/chile/congreso-ava...</td>\n",
       "      <td>Congreso: Avanza votación de proyecto que crea...</td>\n",
       "      <td>La Comisión de Medio Ambiente de la Cámara de ...</td>\n",
       "      <td>2020-11-12</td>\n",
       "      <td>biodiversidad</td>\n",
       "    </tr>\n",
       "    <tr>\n",
       "      <th>4</th>\n",
       "      <td>21494220.0</td>\n",
       "      <td>chile</td>\n",
       "      <td>elrepuertero</td>\n",
       "      <td>https://www.elrepuertero.cl/noticia/sociedad/e...</td>\n",
       "      <td>En Santo Tomás abordarán la temática del manej...</td>\n",
       "      <td>Porque cada vez se hace más necesario analizar...</td>\n",
       "      <td>2017-11-20</td>\n",
       "      <td>biodiversidad</td>\n",
       "    </tr>\n",
       "    <tr>\n",
       "      <th>...</th>\n",
       "      <td>...</td>\n",
       "      <td>...</td>\n",
       "      <td>...</td>\n",
       "      <td>...</td>\n",
       "      <td>...</td>\n",
       "      <td>...</td>\n",
       "      <td>...</td>\n",
       "      <td>...</td>\n",
       "    </tr>\n",
       "    <tr>\n",
       "      <th>4075</th>\n",
       "      <td>4946124.0</td>\n",
       "      <td>chile</td>\n",
       "      <td>elciudadano</td>\n",
       "      <td>https://www.elciudadano.com/politica/debate-pr...</td>\n",
       "      <td>Debate Presidencial en Chile, ¿Qué intereses r...</td>\n",
       "      <td>El Ciudadano entrega aquí las voces, los argu...</td>\n",
       "      <td>2013-06-24</td>\n",
       "      <td>biodiversidad</td>\n",
       "    </tr>\n",
       "    <tr>\n",
       "      <th>4076</th>\n",
       "      <td>5006851.0</td>\n",
       "      <td>chile</td>\n",
       "      <td>elciudadano</td>\n",
       "      <td>https://www.elciudadano.com/medio-ambiente/la-...</td>\n",
       "      <td>La renovación de la crítica al desarrollo y el...</td>\n",
       "      <td>De a poco el Buen Vivir ha ido permeando las ...</td>\n",
       "      <td>2012-03-27</td>\n",
       "      <td>biodiversidad</td>\n",
       "    </tr>\n",
       "    <tr>\n",
       "      <th>4077</th>\n",
       "      <td>5703004.0</td>\n",
       "      <td>chile</td>\n",
       "      <td>elciudadano</td>\n",
       "      <td>https://www.elciudadano.com/organizacion-socia...</td>\n",
       "      <td>Poderes populares en América Latina: pistas es...</td>\n",
       "      <td>Compartimos la Introducción del libro colect...</td>\n",
       "      <td>2013-04-13</td>\n",
       "      <td>biodiversidad</td>\n",
       "    </tr>\n",
       "    <tr>\n",
       "      <th>4078</th>\n",
       "      <td>5654115.0</td>\n",
       "      <td>chile</td>\n",
       "      <td>ahoranoticiasmega</td>\n",
       "      <td>https://www.meganoticias.cl/nacional/226074-cu...</td>\n",
       "      <td>Cuenta Pública: Discurso completo del Presiden...</td>\n",
       "      <td>MENSAJE PRESIDENCIAL CUENTA PÚBLICA 01/JUNIO/2...</td>\n",
       "      <td>2018-06-01</td>\n",
       "      <td>biodiversidad</td>\n",
       "    </tr>\n",
       "    <tr>\n",
       "      <th>4079</th>\n",
       "      <td>21985158.0</td>\n",
       "      <td>chile</td>\n",
       "      <td>radiosago</td>\n",
       "      <td>https://www.radiosago.cl/reviva-la-primera-cue...</td>\n",
       "      <td>Reviva la Primera Cuenta Pública del President...</td>\n",
       "      <td>Honorables miembros del Congreso Nacional, Qu...</td>\n",
       "      <td>2018-06-01</td>\n",
       "      <td>biodiversidad</td>\n",
       "    </tr>\n",
       "  </tbody>\n",
       "</table>\n",
       "<p>4080 rows × 8 columns</p>\n",
       "</div>"
      ],
      "text/plain": [
       "         id_news country       media_outlet  \\\n",
       "0     22000913.0   chile        elciudadano   \n",
       "1      6414845.0   chile          latercera   \n",
       "2     15637554.0   chile               emol   \n",
       "3      5157141.0   chile        elciudadano   \n",
       "4     21494220.0   chile       elrepuertero   \n",
       "...          ...     ...                ...   \n",
       "4075   4946124.0   chile        elciudadano   \n",
       "4076   5006851.0   chile        elciudadano   \n",
       "4077   5703004.0   chile        elciudadano   \n",
       "4078   5654115.0   chile  ahoranoticiasmega   \n",
       "4079  21985158.0   chile          radiosago   \n",
       "\n",
       "                                                    url  \\\n",
       "0     https://www.elciudadano.com/actualidad/disponi...   \n",
       "1     https://www.latercera.com/que-pasa/noticia/no-...   \n",
       "2     https://www.emol.com/noticias/Tecnologia/2016/...   \n",
       "3     https://www.elciudadano.com/chile/congreso-ava...   \n",
       "4     https://www.elrepuertero.cl/noticia/sociedad/e...   \n",
       "...                                                 ...   \n",
       "4075  https://www.elciudadano.com/politica/debate-pr...   \n",
       "4076  https://www.elciudadano.com/medio-ambiente/la-...   \n",
       "4077  https://www.elciudadano.com/organizacion-socia...   \n",
       "4078  https://www.meganoticias.cl/nacional/226074-cu...   \n",
       "4079  https://www.radiosago.cl/reviva-la-primera-cue...   \n",
       "\n",
       "                                                  title  \\\n",
       "0     Disponible online importante catálogo con semi...   \n",
       "1     \"No es suficiente\": Informe reconoce que Chile...   \n",
       "2     Caída de la biodiversidad en el planeta supera...   \n",
       "3     Congreso: Avanza votación de proyecto que crea...   \n",
       "4     En Santo Tomás abordarán la temática del manej...   \n",
       "...                                                 ...   \n",
       "4075  Debate Presidencial en Chile, ¿Qué intereses r...   \n",
       "4076  La renovación de la crítica al desarrollo y el...   \n",
       "4077  Poderes populares en América Latina: pistas es...   \n",
       "4078  Cuenta Pública: Discurso completo del Presiden...   \n",
       "4079  Reviva la Primera Cuenta Pública del President...   \n",
       "\n",
       "                                                   text        date  \\\n",
       "0     La Fundación BIODIVERSIDAD ALIMENTARIA, señala...  2021-09-16   \n",
       "1     \"Si el 2019 fue el año del cambio climático, s...  2020-01-20   \n",
       "2     MADRID.- La biodiversidad del planeta ha caído...  2016-07-14   \n",
       "3     La Comisión de Medio Ambiente de la Cámara de ...  2020-11-12   \n",
       "4     Porque cada vez se hace más necesario analizar...  2017-11-20   \n",
       "...                                                 ...         ...   \n",
       "4075   El Ciudadano entrega aquí las voces, los argu...  2013-06-24   \n",
       "4076   De a poco el Buen Vivir ha ido permeando las ...  2012-03-27   \n",
       "4077    Compartimos la Introducción del libro colect...  2013-04-13   \n",
       "4078  MENSAJE PRESIDENCIAL CUENTA PÚBLICA 01/JUNIO/2...  2018-06-01   \n",
       "4079   Honorables miembros del Congreso Nacional, Qu...  2018-06-01   \n",
       "\n",
       "             search  \n",
       "0     biodiversidad  \n",
       "1     biodiversidad  \n",
       "2     biodiversidad  \n",
       "3     biodiversidad  \n",
       "4     biodiversidad  \n",
       "...             ...  \n",
       "4075  biodiversidad  \n",
       "4076  biodiversidad  \n",
       "4077  biodiversidad  \n",
       "4078  biodiversidad  \n",
       "4079  biodiversidad  \n",
       "\n",
       "[4080 rows x 8 columns]"
      ]
     },
     "execution_count": 1,
     "metadata": {},
     "output_type": "execute_result"
    }
   ],
   "source": [
    "import pandas\n",
    "\n",
    "archivo = \"biodiversidad_chile_2010-01-01_2021-12-31.csv\"\n",
    "\n",
    "dataset = pandas.read_csv(archivo)\n",
    "dataset.drop('Unnamed: 0', axis=1, inplace=True)\n",
    "dataset"
   ]
  },
  {
   "cell_type": "code",
   "execution_count": 2,
   "id": "c338c749",
   "metadata": {},
   "outputs": [
    {
     "data": {
      "text/plain": [
       "'En Santo Tomás abordarán la temática del manejo y la conservación ambiental'"
      ]
     },
     "execution_count": 2,
     "metadata": {},
     "output_type": "execute_result"
    }
   ],
   "source": [
    "dataset[\"title\"][4]"
   ]
  },
  {
   "cell_type": "code",
   "execution_count": 3,
   "id": "d6c1e5c8",
   "metadata": {},
   "outputs": [
    {
     "data": {
      "text/plain": [
       "'Cada vez es más necesaria cualquier acción que contribuya a mejorar las prácticas en el jardín que aumentan o protegen la biodiversidad. La Corporación Jardín Botánico Chagual y CAPES UC son muy conscientes de ello y han desarrollado un curso sobre esta materia. El curso introductorio\\xa0Jardines por la Biodiversidad\\xa0es una primera aproximación a conceptos fundamentales y prácticas de manejo sustentable para fomentar la biodiversidad a nuestro alrededor, promoviendo refugios seguros para la flora y fauna local en las ciudades donde residimos, en un contexto de crisis del sistema en su conjunto. Si bien los contenidos a tratar en general corresponden a principios posibles de aplicar a nivel global, en esta primera versión el curso se enfocará en la zona central de Chile y su biodiversidad asociada. Así también, las salidas a terreno corresponden a lugares dentro de la ciudad de Santiago El curso cumple los siguientes objetivos: 1. Promover la biodiversidad y fomentar el manejo sustentable en jardines privados, antejardines y balcones. 2.Transformar espacios urbanos en hábitats seguros para la flora y fauna local, construyendo en conjunto pequeños parches verdes para sumar a una red mayor en la ciudad. 3.Formar embajadores por la biodiversidad urbana, con la misión de ser un factor de cambio ante lacrisis climática y ambiental Esta primera edición inició el pasado miércoles 20 de octubre y culminará este sábado 11 de diciembre y abarcó 8 clases teóricas online a través de plataforma Zoom. Así como 2 clases prácticas con salida a terreno a Jardines al interior de PARQUEMET. Entre los temas abordados figuran: -Biodiversidad en las ciudades: ecología urbana, cambio climático en Chile, conservación y contribución de los jardines privados. -Micro y mesofauna en el suelo, su fertilidad y rol en el cuidado del agua. -Flora y vegetación nativa de Chile central de clima mediterráneo. -“Malezas” o plantas acompañantes con múltiples posibilidades. -Cultivo de plantas comestibles en el jardín. -Elaboración de biofertilizantes, biopreparados, lombricultura y compostaje -Insectos benéficos y patógenos. -Avifauna. Para obtener mayor información sobre el curso: [email\\xa0protected]@corporacionchagual (Instagram y Facebook)'"
      ]
     },
     "execution_count": 3,
     "metadata": {},
     "output_type": "execute_result"
    }
   ],
   "source": [
    "dataset[\"text\"][5]"
   ]
  },
  {
   "cell_type": "markdown",
   "id": "3a4a4075",
   "metadata": {},
   "source": [
    "## 2. Librería NLP: spaCy (https://spacy.io/)"
   ]
  },
  {
   "cell_type": "code",
   "execution_count": 5,
   "id": "eff27477",
   "metadata": {},
   "outputs": [
    {
     "name": "stdout",
     "output_type": "stream",
     "text": [
      "Collecting spacy==3.2.4\n",
      "  Downloading spacy-3.2.4-cp39-cp39-win_amd64.whl (11.3 MB)\n",
      "Collecting cymem<2.1.0,>=2.0.2\n",
      "  Downloading cymem-2.0.7-cp39-cp39-win_amd64.whl (30 kB)\n",
      "Collecting spacy-legacy<3.1.0,>=3.0.8\n",
      "  Downloading spacy_legacy-3.0.10-py2.py3-none-any.whl (21 kB)\n",
      "Collecting spacy-loggers<2.0.0,>=1.0.0\n",
      "  Downloading spacy_loggers-1.0.3-py3-none-any.whl (9.3 kB)\n",
      "Requirement already satisfied: packaging>=20.0 in c:\\users\\marce\\anaconda3\\lib\\site-packages (from spacy==3.2.4) (21.0)\n",
      "Collecting murmurhash<1.1.0,>=0.28.0\n",
      "  Downloading murmurhash-1.0.9-cp39-cp39-win_amd64.whl (18 kB)\n",
      "Collecting pathy>=0.3.5\n",
      "  Downloading pathy-0.6.2-py3-none-any.whl (42 kB)\n",
      "Requirement already satisfied: tqdm<5.0.0,>=4.38.0 in c:\\users\\marce\\anaconda3\\lib\\site-packages (from spacy==3.2.4) (4.62.3)\n",
      "Collecting blis<0.8.0,>=0.4.0\n",
      "  Downloading blis-0.7.9-cp39-cp39-win_amd64.whl (7.0 MB)\n",
      "Requirement already satisfied: click<8.1.0 in c:\\users\\marce\\anaconda3\\lib\\site-packages (from spacy==3.2.4) (8.0.3)\n",
      "Requirement already satisfied: setuptools in c:\\users\\marce\\anaconda3\\lib\\site-packages (from spacy==3.2.4) (58.0.4)\n",
      "Requirement already satisfied: requests<3.0.0,>=2.13.0 in c:\\users\\marce\\anaconda3\\lib\\site-packages (from spacy==3.2.4) (2.26.0)\n",
      "Collecting typer<0.5.0,>=0.3.0\n",
      "  Downloading typer-0.4.2-py3-none-any.whl (27 kB)\n",
      "Requirement already satisfied: numpy>=1.15.0 in c:\\users\\marce\\anaconda3\\lib\\site-packages (from spacy==3.2.4) (1.20.3)\n",
      "Collecting catalogue<2.1.0,>=2.0.6\n",
      "  Downloading catalogue-2.0.8-py3-none-any.whl (17 kB)\n",
      "Requirement already satisfied: jinja2 in c:\\users\\marce\\anaconda3\\lib\\site-packages (from spacy==3.2.4) (2.11.3)\n",
      "Collecting pydantic!=1.8,!=1.8.1,<1.9.0,>=1.7.4\n",
      "  Downloading pydantic-1.8.2-cp39-cp39-win_amd64.whl (1.9 MB)\n",
      "Collecting wasabi<1.1.0,>=0.8.1\n",
      "  Downloading wasabi-0.10.1-py3-none-any.whl (26 kB)\n",
      "Collecting langcodes<4.0.0,>=3.2.0\n",
      "  Using cached langcodes-3.3.0-py3-none-any.whl (181 kB)\n",
      "Collecting thinc<8.1.0,>=8.0.12\n",
      "  Downloading thinc-8.0.17-cp39-cp39-win_amd64.whl (1.0 MB)\n",
      "Collecting preshed<3.1.0,>=3.0.2\n",
      "  Downloading preshed-3.0.8-cp39-cp39-win_amd64.whl (96 kB)\n",
      "Collecting srsly<3.0.0,>=2.4.1\n",
      "  Downloading srsly-2.4.5-cp39-cp39-win_amd64.whl (481 kB)\n",
      "Requirement already satisfied: colorama in c:\\users\\marce\\anaconda3\\lib\\site-packages (from click<8.1.0->spacy==3.2.4) (0.4.4)\n",
      "Requirement already satisfied: pyparsing>=2.0.2 in c:\\users\\marce\\anaconda3\\lib\\site-packages (from packaging>=20.0->spacy==3.2.4) (3.0.4)\n",
      "Collecting smart-open<6.0.0,>=5.2.1\n",
      "  Using cached smart_open-5.2.1-py3-none-any.whl (58 kB)\n",
      "Requirement already satisfied: typing-extensions>=3.7.4.3 in c:\\users\\marce\\anaconda3\\lib\\site-packages (from pydantic!=1.8,!=1.8.1,<1.9.0,>=1.7.4->spacy==3.2.4) (3.10.0.2)\n",
      "Requirement already satisfied: certifi>=2017.4.17 in c:\\users\\marce\\anaconda3\\lib\\site-packages (from requests<3.0.0,>=2.13.0->spacy==3.2.4) (2021.10.8)\n",
      "Requirement already satisfied: urllib3<1.27,>=1.21.1 in c:\\users\\marce\\anaconda3\\lib\\site-packages (from requests<3.0.0,>=2.13.0->spacy==3.2.4) (1.26.7)\n",
      "Requirement already satisfied: charset-normalizer~=2.0.0 in c:\\users\\marce\\anaconda3\\lib\\site-packages (from requests<3.0.0,>=2.13.0->spacy==3.2.4) (2.0.4)\n",
      "Requirement already satisfied: idna<4,>=2.5 in c:\\users\\marce\\anaconda3\\lib\\site-packages (from requests<3.0.0,>=2.13.0->spacy==3.2.4) (3.2)\n",
      "Requirement already satisfied: MarkupSafe>=0.23 in c:\\users\\marce\\anaconda3\\lib\\site-packages (from jinja2->spacy==3.2.4) (1.1.1)\n",
      "Installing collected packages: murmurhash, cymem, catalogue, wasabi, typer, srsly, smart-open, pydantic, preshed, blis, thinc, spacy-loggers, spacy-legacy, pathy, langcodes, spacy\n",
      "Successfully installed blis-0.7.9 catalogue-2.0.8 cymem-2.0.7 langcodes-3.3.0 murmurhash-1.0.9 pathy-0.6.2 preshed-3.0.8 pydantic-1.8.2 smart-open-5.2.1 spacy-3.2.4 spacy-legacy-3.0.10 spacy-loggers-1.0.3 srsly-2.4.5 thinc-8.0.17 typer-0.4.2 wasabi-0.10.1\n",
      "Collecting es-core-news-md==3.2.0\n",
      "  Downloading https://github.com/explosion/spacy-models/releases/download/es_core_news_md-3.2.0/es_core_news_md-3.2.0-py3-none-any.whl (43.4 MB)\n",
      "Requirement already satisfied: spacy<3.3.0,>=3.2.0 in c:\\users\\marce\\anaconda3\\lib\\site-packages (from es-core-news-md==3.2.0) (3.2.4)\n",
      "Requirement already satisfied: murmurhash<1.1.0,>=0.28.0 in c:\\users\\marce\\anaconda3\\lib\\site-packages (from spacy<3.3.0,>=3.2.0->es-core-news-md==3.2.0) (1.0.9)\n",
      "Requirement already satisfied: packaging>=20.0 in c:\\users\\marce\\anaconda3\\lib\\site-packages (from spacy<3.3.0,>=3.2.0->es-core-news-md==3.2.0) (21.0)\n",
      "Requirement already satisfied: tqdm<5.0.0,>=4.38.0 in c:\\users\\marce\\anaconda3\\lib\\site-packages (from spacy<3.3.0,>=3.2.0->es-core-news-md==3.2.0) (4.62.3)\n",
      "Requirement already satisfied: preshed<3.1.0,>=3.0.2 in c:\\users\\marce\\anaconda3\\lib\\site-packages (from spacy<3.3.0,>=3.2.0->es-core-news-md==3.2.0) (3.0.8)\n",
      "Requirement already satisfied: srsly<3.0.0,>=2.4.1 in c:\\users\\marce\\anaconda3\\lib\\site-packages (from spacy<3.3.0,>=3.2.0->es-core-news-md==3.2.0) (2.4.5)\n",
      "Requirement already satisfied: spacy-legacy<3.1.0,>=3.0.8 in c:\\users\\marce\\anaconda3\\lib\\site-packages (from spacy<3.3.0,>=3.2.0->es-core-news-md==3.2.0) (3.0.10)\n",
      "Requirement already satisfied: wasabi<1.1.0,>=0.8.1 in c:\\users\\marce\\anaconda3\\lib\\site-packages (from spacy<3.3.0,>=3.2.0->es-core-news-md==3.2.0) (0.10.1)\n",
      "Requirement already satisfied: jinja2 in c:\\users\\marce\\anaconda3\\lib\\site-packages (from spacy<3.3.0,>=3.2.0->es-core-news-md==3.2.0) (2.11.3)\n",
      "Requirement already satisfied: click<8.1.0 in c:\\users\\marce\\anaconda3\\lib\\site-packages (from spacy<3.3.0,>=3.2.0->es-core-news-md==3.2.0) (8.0.3)\n",
      "Requirement already satisfied: setuptools in c:\\users\\marce\\anaconda3\\lib\\site-packages (from spacy<3.3.0,>=3.2.0->es-core-news-md==3.2.0) (58.0.4)\n",
      "Requirement already satisfied: blis<0.8.0,>=0.4.0 in c:\\users\\marce\\anaconda3\\lib\\site-packages (from spacy<3.3.0,>=3.2.0->es-core-news-md==3.2.0) (0.7.9)\n",
      "Requirement already satisfied: spacy-loggers<2.0.0,>=1.0.0 in c:\\users\\marce\\anaconda3\\lib\\site-packages (from spacy<3.3.0,>=3.2.0->es-core-news-md==3.2.0) (1.0.3)\n",
      "Requirement already satisfied: requests<3.0.0,>=2.13.0 in c:\\users\\marce\\anaconda3\\lib\\site-packages (from spacy<3.3.0,>=3.2.0->es-core-news-md==3.2.0) (2.26.0)\n",
      "Requirement already satisfied: cymem<2.1.0,>=2.0.2 in c:\\users\\marce\\anaconda3\\lib\\site-packages (from spacy<3.3.0,>=3.2.0->es-core-news-md==3.2.0) (2.0.7)\n",
      "Requirement already satisfied: pydantic!=1.8,!=1.8.1,<1.9.0,>=1.7.4 in c:\\users\\marce\\anaconda3\\lib\\site-packages (from spacy<3.3.0,>=3.2.0->es-core-news-md==3.2.0) (1.8.2)\n",
      "Requirement already satisfied: langcodes<4.0.0,>=3.2.0 in c:\\users\\marce\\anaconda3\\lib\\site-packages (from spacy<3.3.0,>=3.2.0->es-core-news-md==3.2.0) (3.3.0)\n",
      "Requirement already satisfied: typer<0.5.0,>=0.3.0 in c:\\users\\marce\\anaconda3\\lib\\site-packages (from spacy<3.3.0,>=3.2.0->es-core-news-md==3.2.0) (0.4.2)\n",
      "Requirement already satisfied: pathy>=0.3.5 in c:\\users\\marce\\anaconda3\\lib\\site-packages (from spacy<3.3.0,>=3.2.0->es-core-news-md==3.2.0) (0.6.2)\n",
      "Requirement already satisfied: catalogue<2.1.0,>=2.0.6 in c:\\users\\marce\\anaconda3\\lib\\site-packages (from spacy<3.3.0,>=3.2.0->es-core-news-md==3.2.0) (2.0.8)\n",
      "Requirement already satisfied: numpy>=1.15.0 in c:\\users\\marce\\anaconda3\\lib\\site-packages (from spacy<3.3.0,>=3.2.0->es-core-news-md==3.2.0) (1.20.3)\n",
      "Requirement already satisfied: thinc<8.1.0,>=8.0.12 in c:\\users\\marce\\anaconda3\\lib\\site-packages (from spacy<3.3.0,>=3.2.0->es-core-news-md==3.2.0) (8.0.17)\n",
      "Requirement already satisfied: colorama in c:\\users\\marce\\anaconda3\\lib\\site-packages (from click<8.1.0->spacy<3.3.0,>=3.2.0->es-core-news-md==3.2.0) (0.4.4)\n",
      "Requirement already satisfied: pyparsing>=2.0.2 in c:\\users\\marce\\anaconda3\\lib\\site-packages (from packaging>=20.0->spacy<3.3.0,>=3.2.0->es-core-news-md==3.2.0) (3.0.4)\n",
      "Requirement already satisfied: smart-open<6.0.0,>=5.2.1 in c:\\users\\marce\\anaconda3\\lib\\site-packages (from pathy>=0.3.5->spacy<3.3.0,>=3.2.0->es-core-news-md==3.2.0) (5.2.1)\n",
      "Requirement already satisfied: typing-extensions>=3.7.4.3 in c:\\users\\marce\\anaconda3\\lib\\site-packages (from pydantic!=1.8,!=1.8.1,<1.9.0,>=1.7.4->spacy<3.3.0,>=3.2.0->es-core-news-md==3.2.0) (3.10.0.2)\n",
      "Requirement already satisfied: certifi>=2017.4.17 in c:\\users\\marce\\anaconda3\\lib\\site-packages (from requests<3.0.0,>=2.13.0->spacy<3.3.0,>=3.2.0->es-core-news-md==3.2.0) (2021.10.8)\n",
      "Requirement already satisfied: urllib3<1.27,>=1.21.1 in c:\\users\\marce\\anaconda3\\lib\\site-packages (from requests<3.0.0,>=2.13.0->spacy<3.3.0,>=3.2.0->es-core-news-md==3.2.0) (1.26.7)\n",
      "Requirement already satisfied: idna<4,>=2.5 in c:\\users\\marce\\anaconda3\\lib\\site-packages (from requests<3.0.0,>=2.13.0->spacy<3.3.0,>=3.2.0->es-core-news-md==3.2.0) (3.2)\n",
      "Requirement already satisfied: charset-normalizer~=2.0.0 in c:\\users\\marce\\anaconda3\\lib\\site-packages (from requests<3.0.0,>=2.13.0->spacy<3.3.0,>=3.2.0->es-core-news-md==3.2.0) (2.0.4)\n",
      "Requirement already satisfied: MarkupSafe>=0.23 in c:\\users\\marce\\anaconda3\\lib\\site-packages (from jinja2->spacy<3.3.0,>=3.2.0->es-core-news-md==3.2.0) (1.1.1)\n",
      "Installing collected packages: es-core-news-md\n",
      "Successfully installed es-core-news-md-3.2.0\n",
      "[+] Download and installation successful\n",
      "You can now load the package via spacy.load('es_core_news_md')\n"
     ]
    }
   ],
   "source": [
    "!pip install spacy==3.2.4\n",
    "!python -m spacy download es_core_news_md"
   ]
  },
  {
   "cell_type": "code",
   "execution_count": 6,
   "id": "b0d6207b",
   "metadata": {},
   "outputs": [
    {
     "name": "stdout",
     "output_type": "stream",
     "text": [
      "3.2.4\n"
     ]
    }
   ],
   "source": [
    "import spacy\n",
    "\n",
    "print(spacy.__version__)"
   ]
  },
  {
   "cell_type": "code",
   "execution_count": 7,
   "id": "dceade93",
   "metadata": {},
   "outputs": [],
   "source": [
    "nlp = spacy.load(\"es_core_news_md\")"
   ]
  },
  {
   "cell_type": "code",
   "execution_count": 8,
   "id": "65d056c0",
   "metadata": {},
   "outputs": [
    {
     "data": {
      "text/plain": [
       "'En Santo Tomás abordarán la temática del manejo y la conservación ambiental'"
      ]
     },
     "execution_count": 8,
     "metadata": {},
     "output_type": "execute_result"
    }
   ],
   "source": [
    "text=dataset[\"title\"][4]\n",
    "text"
   ]
  },
  {
   "cell_type": "code",
   "execution_count": 9,
   "id": "0fa9232e",
   "metadata": {},
   "outputs": [],
   "source": [
    "doc = nlp(text)"
   ]
  },
  {
   "cell_type": "markdown",
   "id": "99fc10b2",
   "metadata": {},
   "source": [
    "- Tokenización, Análisis gramátical, lematización..."
   ]
  },
  {
   "cell_type": "code",
   "execution_count": 10,
   "id": "2c64f182",
   "metadata": {},
   "outputs": [
    {
     "name": "stdout",
     "output_type": "stream",
     "text": [
      "En en True ADP\n",
      "Santo Santo False PROPN\n",
      "Tomás Tomás False PROPN\n",
      "abordarán abordar False VERB\n",
      "la el True DET\n",
      "temática temática False NOUN\n",
      "del del True ADP\n",
      "manejo manejo False NOUN\n",
      "y y False CCONJ\n",
      "la el True DET\n",
      "conservación conservación False NOUN\n",
      "ambiental ambiental False ADJ\n"
     ]
    }
   ],
   "source": [
    "for token in doc:\n",
    "    print(token.text, token.lemma_,token.is_stop,token.pos_)"
   ]
  },
  {
   "cell_type": "code",
   "execution_count": 11,
   "id": "76ea5818",
   "metadata": {},
   "outputs": [
    {
     "data": {
      "text/plain": [
       "'Cada vez es más necesaria cualquier acción que contribuya a mejorar las prácticas en el jardín que aumentan o protegen la biodiversidad. La Corporación Jardín Botánico Chagual y CAPES UC son muy conscientes de ello y han desarrollado un curso sobre esta materia. El curso introductorio\\xa0Jardines por la Biodiversidad\\xa0es una primera aproximación a conceptos fundamentales y prácticas de manejo sustentable para fomentar la biodiversidad a nuestro alrededor, promoviendo refugios seguros para la flora y fauna local en las ciudades donde residimos, en un contexto de crisis del sistema en su conjunto. Si bien los contenidos a tratar en general corresponden a principios posibles de aplicar a nivel global, en esta primera versión el curso se enfocará en la zona central de Chile y su biodiversidad asociada. Así también, las salidas a terreno corresponden a lugares dentro de la ciudad de Santiago El curso cumple los siguientes objetivos: 1. Promover la biodiversidad y fomentar el manejo sustentable en jardines privados, antejardines y balcones. 2.Transformar espacios urbanos en hábitats seguros para la flora y fauna local, construyendo en conjunto pequeños parches verdes para sumar a una red mayor en la ciudad. 3.Formar embajadores por la biodiversidad urbana, con la misión de ser un factor de cambio ante lacrisis climática y ambiental Esta primera edición inició el pasado miércoles 20 de octubre y culminará este sábado 11 de diciembre y abarcó 8 clases teóricas online a través de plataforma Zoom. Así como 2 clases prácticas con salida a terreno a Jardines al interior de PARQUEMET. Entre los temas abordados figuran: -Biodiversidad en las ciudades: ecología urbana, cambio climático en Chile, conservación y contribución de los jardines privados. -Micro y mesofauna en el suelo, su fertilidad y rol en el cuidado del agua. -Flora y vegetación nativa de Chile central de clima mediterráneo. -“Malezas” o plantas acompañantes con múltiples posibilidades. -Cultivo de plantas comestibles en el jardín. -Elaboración de biofertilizantes, biopreparados, lombricultura y compostaje -Insectos benéficos y patógenos. -Avifauna. Para obtener mayor información sobre el curso: [email\\xa0protected]@corporacionchagual (Instagram y Facebook)'"
      ]
     },
     "execution_count": 11,
     "metadata": {},
     "output_type": "execute_result"
    }
   ],
   "source": [
    "text=dataset[\"text\"][5]\n",
    "text"
   ]
  },
  {
   "cell_type": "markdown",
   "id": "b9d4b480",
   "metadata": {},
   "source": [
    "- Extracción de las Entidades (Personas, Organizaciones, Lugares, etc.)"
   ]
  },
  {
   "cell_type": "code",
   "execution_count": 12,
   "id": "4736c2d2",
   "metadata": {},
   "outputs": [
    {
     "name": "stdout",
     "output_type": "stream",
     "text": [
      "La Corporación Jardín Botánico Chagual 137 175 LOC\n",
      "CAPES UC 178 186 ORG\n",
      "El curso introductorio Jardines 263 294 MISC\n",
      "Si bien los contenidos 599 621 MISC\n",
      "Chile 771 776 LOC\n",
      "Así también, las salidas a terreno 806 840 MISC\n",
      "Promover la biodiversidad 941 966 MISC\n",
      "Esta primera edición 1344 1364 MISC\n",
      "Zoom. 1503 1508 ORG\n",
      "Jardines 1560 1568 LOC\n",
      "PARQUEMET. 1584 1594 MISC\n",
      "Chile 1699 1704 LOC\n",
      "Chile 1866 1871 LOC\n",
      "Instagram 2217 2226 MISC\n",
      "Facebook 2229 2237 MISC\n"
     ]
    }
   ],
   "source": [
    "doc = nlp(text)\n",
    "for ent in doc.ents:\n",
    "    print(ent.text, ent.start_char, ent.end_char, ent.label_)"
   ]
  },
  {
   "cell_type": "code",
   "execution_count": 13,
   "id": "88c99b9b",
   "metadata": {},
   "outputs": [],
   "source": [
    "for ent in doc.ents:\n",
    "    if(ent.label_ == \"PER\"):\n",
    "        if (\" \" in ent.text):\n",
    "            print(ent.text, ent.start_char, ent.end_char, ent.label_)"
   ]
  },
  {
   "cell_type": "markdown",
   "id": "40180ede",
   "metadata": {},
   "source": [
    "- Extracción de patrones"
   ]
  },
  {
   "cell_type": "code",
   "execution_count": 14,
   "id": "4b1f8e16",
   "metadata": {},
   "outputs": [],
   "source": [
    "from spacy.matcher import Matcher\n",
    "matcher = Matcher(nlp.vocab)"
   ]
  },
  {
   "cell_type": "code",
   "execution_count": 15,
   "id": "59b5265f",
   "metadata": {},
   "outputs": [],
   "source": [
    "# pattern: NOUN-de-NOUN\n",
    "pattern_1 = [{\"POS\": \"NOUN\"},{\"LOWER\": \"de\"}, {\"POS\": \"NOUN\"}]\n",
    "matcher.add(\"NOUN-de-NOUN\", [pattern_1])"
   ]
  },
  {
   "cell_type": "code",
   "execution_count": 16,
   "id": "89045af7",
   "metadata": {},
   "outputs": [],
   "source": [
    "# pattern: NOUN-ADJ\n",
    "pattern_2 = [{\"POS\": \"NOUN\"}, {\"POS\": \"ADJ\"}]\n",
    "matcher.add(\"NOUN-ADJ\", [pattern_2])"
   ]
  },
  {
   "cell_type": "code",
   "execution_count": 17,
   "id": "d2279ce8",
   "metadata": {},
   "outputs": [
    {
     "name": "stdout",
     "output_type": "stream",
     "text": [
      "curso introductorio\n",
      "conceptos fundamentales\n",
      "prácticas de manejo\n",
      "manejo sustentable\n",
      "refugios seguros\n",
      "fauna local\n",
      "contexto de crisis\n",
      "principios posibles\n",
      "nivel global\n",
      "zona central\n",
      "biodiversidad asociada\n",
      "manejo sustentable\n",
      "espacios urbanos\n",
      "hábitats seguros\n",
      "fauna local\n",
      "conjunto pequeños\n",
      "parches verdes\n",
      "red mayor\n",
      "biodiversidad urbana\n",
      "factor de cambio\n",
      "lacrisis climática\n",
      "clases teóricas\n",
      "través de plataforma\n",
      "clases prácticas\n",
      "temas abordados\n",
      "ecología urbana\n",
      "cambio climático\n",
      "vegetación nativa\n",
      "clima mediterráneo\n",
      "plantas acompañantes\n",
      "plantas comestibles\n",
      "-elaboración de biofertilizantes\n",
      "-insectos benéficos\n"
     ]
    }
   ],
   "source": [
    "matches = matcher(doc)\n",
    "\n",
    "for match_id, start, end in matches:\n",
    "    #string_id = nlp.vocab.strings[match_id]\n",
    "    span = doc[start:end]  # The matched span\n",
    "    #print(match_id, string_id, start, end, span.text)\n",
    "    print(span.text.lower())"
   ]
  }
 ],
 "metadata": {
  "kernelspec": {
   "display_name": "Python 3 (ipykernel)",
   "language": "python",
   "name": "python3"
  },
  "language_info": {
   "codemirror_mode": {
    "name": "ipython",
    "version": 3
   },
   "file_extension": ".py",
   "mimetype": "text/x-python",
   "name": "python",
   "nbconvert_exporter": "python",
   "pygments_lexer": "ipython3",
   "version": "3.9.7"
  }
 },
 "nbformat": 4,
 "nbformat_minor": 5
}
